{
 "cells": [
  {
   "cell_type": "code",
   "execution_count": null,
   "metadata": {
    "_cell_guid": "b1076dfc-b9ad-4769-8c92-a6c4dae69d19",
    "_uuid": "8f2839f25d086af736a60e9eeb907d3b93b6e0e5"
   },
   "outputs": [],
   "source": [
    "# This Python 3 environment comes with many helpful analytics libraries installed\n",
    "# It is defined by the kaggle/python docker image: https://github.com/kaggle/docker-python\n",
    "# For example, here's several helpful packages to load in \n",
    "\n",
    "import numpy as np # linear algebra\n",
    "import pandas as pd # data processing, CSV file I/O (e.g. pd.read_csv)\n",
    "import seaborn as sns\n",
    "import numpy as np\n",
    "import matplotlib.pyplot as plt\n",
    "import copy\n",
    "from sklearn import preprocessing\n",
    "from sklearn.model_selection import train_test_split\n",
    "from sklearn.preprocessing import StandardScaler\n",
    "\n",
    "% matplotlib inline\n",
    "# Input data files are available in the \"../input/\" directory.\n",
    "# For example, running this (by clicking run or pressing Shift+Enter) will list the files in the input directory\n",
    "\n",
    "import os\n",
    "print(os.listdir(\"../input\"))\n",
    "\n",
    "# Any results you write to the current directory are saved as output."
   ]
  },
  {
   "cell_type": "code",
   "execution_count": null,
   "metadata": {
    "_cell_guid": "79c7e3d0-c299-4dcb-8224-4455121ee9b0",
    "_uuid": "d629ff2d2480ee46fbb7e2d37f6b5fab8052498a"
   },
   "outputs": [],
   "source": [
    "date_col = ['issue_d','last_pymnt_d','earliest_cr_line','last_credit_pull_d']\n",
    "def lookup(s):\n",
    "    dates = {date:pd.to_datetime(date) for date in s.unique()}\n",
    "    return s.map(dates)\n",
    "\n",
    "#print(os.listdir(\"../input\"))\n",
    "data = pd.read_csv(\"../input/loan.csv\")\n",
    "for i in date_col:\n",
    "    data[i] = lookup(data[i])\n",
    "\n",
    "    #print(data.iloc[1])\n",
    "data_null = data.isna().sum()\n",
    "#print(data_null)\n",
    "#print(data_null['id'])\n",
    "check_size = round(data.shape[0]/100)\n",
    "keys =[]\n",
    "for key, values in data_null.items():\n",
    "    if values > check_size:\n",
    "        keys.append(key)\n",
    "data.drop(keys, axis=1,inplace=True)\n",
    "data = data.dropna(how='any',axis=0)\n",
    "data = data.reset_index(drop=True)\n",
    "print(data.shape)\n",
    "data = data.drop(columns='zip_code')\n",
    "\n"
   ]
  },
  {
   "cell_type": "code",
   "execution_count": null,
   "metadata": {},
   "outputs": [],
   "source": [
    "data['issue_days'] = np.nan\n",
    "data['credit_days'] = np.nan\n",
    "def diffrence_days(start,end):\n",
    "    return (start-end).days\n",
    "\n",
    "data['issue_days'] = data.apply(lambda x: diffrence_days(x.last_pymnt_d, x.issue_d), axis=1)\n",
    "data['credit_days'] = data.apply(lambda x: diffrence_days(x.last_credit_pull_d, x.earliest_cr_line), axis=1)\n",
    "data = data.drop(columns=date_col)"
   ]
  },
  {
   "cell_type": "code",
   "execution_count": null,
   "metadata": {},
   "outputs": [],
   "source": [
    "fig, ax = plt.subplots(1, 3, figsize=(16,5))\n",
    "loan_amount = data[\"loan_amnt\"].values\n",
    "funded_amount = data[\"funded_amnt\"].values\n",
    "investor_funds = data[\"funded_amnt_inv\"].values\n",
    "\n",
    "\n",
    "sns.distplot(loan_amount, ax=ax[0])\n",
    "ax[0].set_title(\"Loan Applied by the Borrower\", fontsize=14)\n",
    "sns.distplot(funded_amount, ax=ax[1])\n",
    "ax[1].set_title(\"Amount Funded by the Lender\", fontsize=14)\n",
    "sns.distplot(investor_funds, ax=ax[2])\n",
    "ax[2].set_title(\"Total committed by Investors\", fontsize=14)"
   ]
  },
  {
   "cell_type": "code",
   "execution_count": null,
   "metadata": {},
   "outputs": [],
   "source": [
    "west = ['CA', 'OR', 'UT','WA', 'CO', 'NV', 'AK', 'MT', 'HI', 'WY', 'ID']\n",
    "south_west = ['AZ', 'TX', 'NM', 'OK']\n",
    "south_east = ['GA', 'NC', 'VA', 'FL', 'KY', 'SC', 'LA', 'AL', 'WV', 'DC', 'AR', 'DE', 'MS', 'TN' ]\n",
    "mid_west = ['IL', 'MO', 'MN', 'OH', 'WI', 'KS', 'MI', 'SD', 'IA', 'NE', 'IN', 'ND']\n",
    "north_east = ['CT', 'NY', 'PA', 'NJ', 'RI','MA', 'MD', 'VT', 'NH', 'ME']\n",
    "\n",
    "\n",
    "\n",
    "data['region'] = np.nan\n",
    "\n",
    "def finding_regions(state):\n",
    "    if state in west:\n",
    "        return 'West'\n",
    "    elif state in south_west:\n",
    "        return 'SouthWest'\n",
    "    elif state in south_east:\n",
    "        return 'SouthEast'\n",
    "    elif state in mid_west:\n",
    "        return 'MidWest'\n",
    "    elif state in north_east:\n",
    "        return 'NorthEast'\n",
    "    \n",
    "\n",
    "\n",
    "data['region'] = data['addr_state'].apply(finding_regions)\n",
    "data = data.drop(columns='addr_state')\n",
    "data = data.drop(columns='sub_grade')"
   ]
  },
  {
   "cell_type": "code",
   "execution_count": null,
   "metadata": {},
   "outputs": [],
   "source": [
    "data = data.reindex(list([a for a in data.columns if a != 'loan_status'] + ['loan_status']), axis=1)\n",
    "y = data.iloc[:,-1]\n",
    "X = data.iloc[:,0:len(data.columns)-1]"
   ]
  },
  {
   "cell_type": "code",
   "execution_count": null,
   "metadata": {},
   "outputs": [],
   "source": [
    "cols = data.columns\n",
    "num_cols = data._get_numeric_data().columns\n",
    "date_cols = data.select_dtypes(include=[np.datetime64]).columns.tolist()\n",
    "cat_data = list(set(cols) - set(num_cols) - set(date_cols))\n"
   ]
  },
  {
   "cell_type": "code",
   "execution_count": null,
   "metadata": {},
   "outputs": [],
   "source": [
    "label = []\n",
    "hot = []\n",
    "remove = []\n",
    "for i in cat_data:\n",
    "    cnt = data[i].nunique()\n",
    "    if cnt == 2 or i == 'loan_status':\n",
    "        label.append(i)\n",
    "    elif cnt ==1:\n",
    "        remove.append(i)\n",
    "    else:\n",
    "        hot.append(i)\n",
    "data = data.drop(columns=remove)\n",
    "print(label,hot)"
   ]
  },
  {
   "cell_type": "code",
   "execution_count": null,
   "metadata": {},
   "outputs": [],
   "source": [
    "data = pd.get_dummies(data, columns=hot, drop_first=True)\n",
    "class MultiColumnLabelEncoder:\n",
    "    def __init__(self,columns = None):\n",
    "        self.columns = columns \n",
    "\n",
    "    def fit(self,X,y=None):\n",
    "        return self \n",
    "\n",
    "    def transform(self,X):\n",
    "        '''\n",
    "        Transforms columns of X specified in self.columns using\n",
    "        LabelEncoder(). If no columns specified, transforms all\n",
    "        columns in X.\n",
    "        '''\n",
    "        output = X.copy()\n",
    "        if self.columns is not None:\n",
    "            for col in self.columns:\n",
    "                output[col] = preprocessing.LabelEncoder().fit_transform(output[col])\n",
    "        else:\n",
    "            for colname,col in output.iteritems():\n",
    "                output[colname] = preprocessing.LabelEncoder().fit_transform(col)\n",
    "        return output\n",
    "\n",
    "    def fit_transform(self,X,y=None):\n",
    "        return self.fit(X,y).transform(X)\n",
    "\n",
    "data = MultiColumnLabelEncoder(columns = label).fit_transform(data)\n",
    "\n"
   ]
  },
  {
   "cell_type": "code",
   "execution_count": null,
   "metadata": {},
   "outputs": [],
   "source": [
    "corr = data.corr()\n",
    "columns = np.full((corr.shape[0],), True, dtype=bool)\n",
    "for i in range(corr.shape[0]):\n",
    "    for j in range(i+1, corr.shape[0]):\n",
    "        if corr.iloc[i,j] >= 0.9:\n",
    "            if columns[j]:\n",
    "                columns[j] = False\n",
    "\n",
    "selected_columns = data.columns[columns]\n",
    "\n",
    "data = data[selected_columns]"
   ]
  },
  {
   "cell_type": "code",
   "execution_count": null,
   "metadata": {},
   "outputs": [],
   "source": [
    "rem = list(set(data.columns) - set(selected_columns))\n",
    "print(rem)\n",
    "sns.heatmap(corr)"
   ]
  },
  {
   "cell_type": "code",
   "execution_count": null,
   "metadata": {},
   "outputs": [],
   "source": [
    "using_tree = ['loan_amnt', 'funded_amnt', 'funded_amnt_inv', 'int_rate', 'installment', 'annual_inc', 'dti', 'inq_last_6mths', 'open_acc', 'revol_bal', 'revol_util', 'total_acc','loan_status', 'total_pymnt', 'total_pymnt_inv', 'total_rec_prncp', 'total_rec_int', 'last_pymnt_amnt', 'issue_days', 'credit_days', 'verification_status_Source Verified', 'verification_status_Verified']\n",
    "data1 = copy.deepcopy(data[using_tree])"
   ]
  },
  {
   "cell_type": "code",
   "execution_count": null,
   "metadata": {},
   "outputs": [],
   "source": [
    "data1 = data1.reindex(list([a for a in data1.columns if a != 'loan_status'] + ['loan_status']), axis=1)\n",
    "y = data1.iloc[:,-1]\n",
    "X = data1.iloc[:,0:len(data1.columns)-1]"
   ]
  },
  {
   "cell_type": "code",
   "execution_count": null,
   "metadata": {},
   "outputs": [],
   "source": [
    "\n",
    "#from sklearn.model_selection import train_test_split\n",
    "from sklearn.preprocessing import StandardScaler\n",
    "#x_train, x_test, y_train, y_test = train_test_split(X, y, test_size = 0.25, random_state = 0)\n",
    "\n",
    "\n",
    "from sklearn.model_selection import StratifiedShuffleSplit\n",
    "\n",
    "stratified = StratifiedShuffleSplit(n_splits=1, test_size=0.2, random_state=42)\n",
    "\n",
    "for train_set, test_set in stratified.split(X, y):\n",
    "    stratified_train = data.loc[train_set]\n",
    "    stratified_test = data.loc[test_set]\n",
    "    \n",
    "train_df = stratified_train\n",
    "test_df = stratified_test\n",
    "\n",
    "\n",
    "# Let's Shuffle the data\n",
    "train_df = train_df.sample(frac=1).reset_index(drop=True)\n",
    "test_df = test_df.sample(frac=1).reset_index(drop=True)\n",
    "\n",
    "\n",
    "# Train set (Normal training dataset)\n",
    "x_train = train_df.drop('loan_status', axis=1)\n",
    "y_train = train_df['loan_status']\n",
    "\n",
    "\n",
    "# Test Dataset\n",
    "x_test = test_df.drop('loan_status', axis=1)\n",
    "y_test = test_df['loan_status']\n",
    "\n",
    "del train_df\n",
    "del test_df\n",
    "del stratified_train\n",
    "del stratified_test\n",
    "gc.collect()\n",
    "sc = StandardScaler()\n",
    "x_train = sc.fit_transform(x_train)\n",
    "x_test = sc.transform(x_test)\n",
    "\n"
   ]
  },
  {
   "cell_type": "code",
   "execution_count": null,
   "metadata": {},
   "outputs": [],
   "source": [
    "import lightgbm as lgb\n",
    "lgb_train = lgb.Dataset(x_train, y_train)\n",
    "lgb_eval = lgb.Dataset(x_test, y_test, reference=lgb_train)\n",
    "param = {\n",
    "    'objective': 'multiclass',\n",
    "    'num_class':9,\n",
    "    'metric': 'multi_logloss',\n",
    "    'learning_rate':0.003,\n",
    "    'boosting_type': 'gbdt',\n",
    "    'num_leaves': 31,\n",
    "    'learning_rate': 0.05,\n",
    "    'feature_fraction': 0.9,\n",
    "    'bagging_fraction': 0.8,\n",
    "    'bagging_freq': 5,\n",
    "    'verbose': 0,\n",
    "    'num_leaves':150\n",
    "}\n",
    "num_round=100\n",
    "gbm = lgb.train(param,\n",
    "                lgb_train,\n",
    "                num_boost_round=num_round,\n",
    "                valid_sets=lgb_eval,\n",
    "                early_stopping_rounds=5)\n",
    "y_pred = gbm.predict(x_test, num_iteration=gbm.best_iteration)\n"
   ]
  },
  {
   "cell_type": "code",
   "execution_count": null,
   "metadata": {},
   "outputs": [],
   "source": [
    "from sklearn.metrics import  accuracy_score\n",
    "from mlxtend.evaluate import confusion_matrix\n",
    "y_pred_lgm = []\n",
    "for i in y_pred:\n",
    "    y_pred_lgm.append(np.argmax(i))\n",
    "#print(len(y_pred_lgm))\n",
    "cm = confusion_matrix(y_test, y_pred_lgm,binary=True)\n",
    "tp, fn, fp, tn = cm[0][0], cm[0][1], cm[1][0], cm[1][1]\n",
    "accuracy_lgbm = accuracy_score(y_pred_lgm,y_test)\n",
    "print(\"LGBM\",accuracy_lgbm)\n",
    "print(tp, fn, fp, tn)\n",
    "#recal = recall_score(y_pred_lgm,y_test)\n",
    "\n"
   ]
  },
  {
   "cell_type": "code",
   "execution_count": null,
   "metadata": {},
   "outputs": [],
   "source": [
    "import gc\n",
    "gc.collect()"
   ]
  },
  {
   "cell_type": "code",
   "execution_count": null,
   "metadata": {},
   "outputs": [],
   "source": [
    "from sklearn import metrics\n",
    "print(cm)\n",
    "print(tp,fn,fp,tn)\n",
    "recal = tp/(tp+fn)\n",
    "precision = tp/(tp+fp)\n",
    "acc = (tp + tn)/(tp+tn+fn+fp)\n",
    "print(recal, precision, acc)\n"
   ]
  },
  {
   "cell_type": "code",
   "execution_count": null,
   "metadata": {},
   "outputs": [],
   "source": [
    "import xgboost as xgb \n",
    "dtrain = xgb.DMatrix(x_train,label=y_train)\n",
    "dtest=xgb.DMatrix(x_test)\n",
    "param = {\n",
    "    'objective': 'multi:softmax',\n",
    "    'num_class':9,\n",
    "    'metric': 'multi_logloss',\n",
    "    'boosting_type': 'gbdt',\n",
    "    'num_leaves': 31,\n",
    "    'learning_rate': 0.05,\n",
    "    'feature_fraction': 0.9,\n",
    "    'bagging_fraction': 0.8,\n",
    "    'bagging_freq': 5,\n",
    "    'verbose': 0,\n",
    "    'num_leaves':150\n",
    "}\n",
    "num_round=50\n",
    "xg=xgb.train(param,dtrain,num_round)\n",
    "ypred=xg.predict(dtest)\n",
    "cm = confusion_matrix(y_test, ypred,binary=True)\n",
    "print(cm)\n",
    "accuracy_xgb = accuracy_score(y_test,ypred) \n",
    "print(\"XGBOOT:\",accuracy_xgb)\n"
   ]
  },
  {
   "cell_type": "code",
   "execution_count": null,
   "metadata": {},
   "outputs": [],
   "source": [
    "from catboost import CatBoostClassifier\n",
    "model = CatBoostClassifier(iterations=50,depth=7,learning_rate=0.05,loss_function='MultiClass')\n",
    "model.fit(x_train, y_train)\n",
    "pred_cat = model.predict(x_test)\n",
    "cm = confusion_matrix(y_test, pred_cat,binary=True)\n",
    "print(cm)\n",
    "accuracy_cat = accuracy_score(pred_cat,y_test)\n",
    "print(\"Catboost\",accuracy_cat)"
   ]
  },
  {
   "cell_type": "code",
   "execution_count": null,
   "metadata": {},
   "outputs": [],
   "source": [
    "from scipy import stats\n",
    "from sklearn.metrics import accuracy_score\n",
    "stack = []\n",
    "for i in range(len(ypred)):\n",
    "    if ypred[i] == y_pred_lgm[i] == pred_cat[i]:\n",
    "        stack.append(int(ypred[i]))\n",
    "    elif int(stats.mode([ypred[i],y_pred_lgm[i],pred_cat[i]]).count) == 2:\n",
    "        stack.append(int(stats.mode([ypred[i],y_pred_lgm[i],pred_cat[i]]).mode))\n",
    "    else:\n",
    "        stack.append(int(ypred[i]))\n",
    "cm = confusion_matrix(y_test, stack)\n",
    "print(cm)\n",
    "accuracy_stack = accuracy_score(y_test,np.asarray(stack))\n",
    "print(\"Stacking:\",accuracy_stack)"
   ]
  },
  {
   "cell_type": "code",
   "execution_count": null,
   "metadata": {},
   "outputs": [],
   "source": []
  }
 ],
 "metadata": {
  "kernelspec": {
   "display_name": "Python 3",
   "language": "python",
   "name": "python3"
  },
  "language_info": {
   "codemirror_mode": {
    "name": "ipython",
    "version": 3
   },
   "file_extension": ".py",
   "mimetype": "text/x-python",
   "name": "python",
   "nbconvert_exporter": "python",
   "pygments_lexer": "ipython3",
   "version": "3.7.3"
  }
 },
 "nbformat": 4,
 "nbformat_minor": 1
}
